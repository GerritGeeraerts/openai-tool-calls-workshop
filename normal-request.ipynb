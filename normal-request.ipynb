{
 "cells": [
  {
   "cell_type": "code",
   "id": "initial_id",
   "metadata": {
    "collapsed": true,
    "ExecuteTime": {
     "end_time": "2024-06-29T17:54:59.287304Z",
     "start_time": "2024-06-29T17:54:59.280537Z"
    }
   },
   "source": [
    "# import modules\n",
    "import os\n",
    "from openai import OpenAI\n",
    "from dotenv import load_dotenv\n",
    "\n",
    "# load the .env file\n",
    "load_dotenv()"
   ],
   "outputs": [
    {
     "data": {
      "text/plain": [
       "True"
      ]
     },
     "execution_count": 34,
     "metadata": {},
     "output_type": "execute_result"
    }
   ],
   "execution_count": 34
  },
  {
   "metadata": {
    "ExecuteTime": {
     "end_time": "2024-06-29T17:54:59.391528Z",
     "start_time": "2024-06-29T17:54:59.345409Z"
    }
   },
   "cell_type": "code",
   "source": [
    "# Initializing the OpenAi client\n",
    "client = OpenAI(api_key=os.getenv(\"OPENAI_API_KEYS\"), project=os.environ.get(\"OPENAI_PROJECT_ID\"))"
   ],
   "id": "6180e34660ae2f52",
   "outputs": [],
   "execution_count": 35
  },
  {
   "metadata": {
    "ExecuteTime": {
     "end_time": "2024-06-29T17:54:59.399611Z",
     "start_time": "2024-06-29T17:54:59.394687Z"
    }
   },
   "cell_type": "code",
   "source": [
    "# define the initial messages\n",
    "messages = [\n",
    "    {\"role\": \"system\", \"content\": \"You are a math assistant\"},\n",
    "    {\"role\": \"user\", \"content\": \"What is 7 to the power of 34?\"}\n",
    "]"
   ],
   "id": "f8a3f2194d132b23",
   "outputs": [],
   "execution_count": 36
  },
  {
   "metadata": {
    "ExecuteTime": {
     "end_time": "2024-06-29T17:55:01.080136Z",
     "start_time": "2024-06-29T17:54:59.402438Z"
    }
   },
   "cell_type": "code",
   "source": [
    "# Send these messages to the OpenAI API for chat completion\n",
    "response = client.chat.completions.create(\n",
    "    model=\"gpt-3.5-turbo\",\n",
    "    messages=messages\n",
    ")"
   ],
   "id": "3118be6d83485fa4",
   "outputs": [],
   "execution_count": 37
  },
  {
   "metadata": {
    "ExecuteTime": {
     "end_time": "2024-06-29T17:55:01.090277Z",
     "start_time": "2024-06-29T17:55:01.083528Z"
    }
   },
   "cell_type": "code",
   "source": [
    "# inspect the result\n",
    "response.choices[0].message"
   ],
   "id": "33830e09145a9901",
   "outputs": [
    {
     "data": {
      "text/plain": [
       "ChatCompletionMessage(content='To calculate 7 to the power of 34, you would multiply 7 by itself 34 times. This large number is equal to 5.122182917407763e+29 in scientific notation, or approximately 512,218,291,740,776,300,000,000,000,000.', role='assistant', function_call=None, tool_calls=None)"
      ]
     },
     "execution_count": 38,
     "metadata": {},
     "output_type": "execute_result"
    }
   ],
   "execution_count": 38
  },
  {
   "metadata": {},
   "cell_type": "markdown",
   "source": "",
   "id": "b6aa49f99b4269cf"
  },
  {
   "metadata": {
    "ExecuteTime": {
     "end_time": "2024-06-29T17:55:01.104508Z",
     "start_time": "2024-06-29T17:55:01.091525Z"
    }
   },
   "cell_type": "code",
   "source": [
    "# Check if the answer is correct\n",
    "messages.append(response.choices[0].message)\n",
    "messages.append({\"role\": \"user\", \"content\": \"The correct answer is 5.411695604×10^28. Did you get the answer right? and can you explain me why Large Language Models are bad at calculating math equations?\"})\n",
    "messages"
   ],
   "id": "7257d8d610ed1078",
   "outputs": [
    {
     "data": {
      "text/plain": [
       "[{'role': 'system', 'content': 'You are a math assistant'},\n",
       " {'role': 'user', 'content': 'What is 7 to the power of 34?'},\n",
       " ChatCompletionMessage(content='To calculate 7 to the power of 34, you would multiply 7 by itself 34 times. This large number is equal to 5.122182917407763e+29 in scientific notation, or approximately 512,218,291,740,776,300,000,000,000,000.', role='assistant', function_call=None, tool_calls=None),\n",
       " {'role': 'user',\n",
       "  'content': 'The correct answer is 5.411695604×10^28. Did you get the answer right? and can you explain me why Large Language Models are bad at calculating math equations?'}]"
      ]
     },
     "execution_count": 39,
     "metadata": {},
     "output_type": "execute_result"
    }
   ],
   "execution_count": 39
  },
  {
   "metadata": {
    "ExecuteTime": {
     "end_time": "2024-06-29T17:55:04.663322Z",
     "start_time": "2024-06-29T17:55:01.106126Z"
    }
   },
   "cell_type": "code",
   "source": [
    "response = client.chat.completions.create(\n",
    "    model=\"gpt-3.5-turbo\",\n",
    "    messages=messages\n",
    ")"
   ],
   "id": "98acd42b4a6566ef",
   "outputs": [],
   "execution_count": 40
  },
  {
   "metadata": {
    "ExecuteTime": {
     "end_time": "2024-06-29T17:55:04.673158Z",
     "start_time": "2024-06-29T17:55:04.665582Z"
    }
   },
   "cell_type": "code",
   "source": "response.choices[0].message",
   "id": "8b4cdaf70d40f367",
   "outputs": [
    {
     "data": {
      "text/plain": [
       "ChatCompletionMessage(content='I apologize for the error in my previous response. Thank you for providing the correct answer.\\n\\nLarge Language Models (LLMs) like the one I am based on are not designed to be highly accurate or reliable for mathematical calculations. While LLMs can perform simple arithmetic calculations and provide estimates for basic math problems, they are not optimized for precise mathematical computations.\\n\\nThere are several reasons why LLMs may not be ideal for calculating math equations accurately:\\n\\n1. Ambiguity in notation: Math expressions can be written in various ways, and LLMs may have difficulty interpreting complex mathematical notations accurately.\\n\\n2. Lack of specialized knowledge: LLMs are trained on a vast amount of text data but may lack the specialized mathematical knowledge and algorithms used in dedicated math software or calculators.\\n\\n3. Precision and rounding errors: LLMs operate using limited precision and rounding techniques, which can lead to inaccuracies when dealing with extremely large or small numbers.\\n\\n4. Limited context and reasoning: LLMs generate responses based on patterns in the data they were trained on, without deep mathematical reasoning or understanding of underlying principles.\\n\\nOverall, while LLMs can provide quick estimates and basic calculations, they are not suitable substitutes for dedicated math software or calculators when high accuracy and precision are required.', role='assistant', function_call=None, tool_calls=None)"
      ]
     },
     "execution_count": 41,
     "metadata": {},
     "output_type": "execute_result"
    }
   ],
   "execution_count": 41
  }
 ],
 "metadata": {
  "kernelspec": {
   "display_name": "Python 3",
   "language": "python",
   "name": "python3"
  },
  "language_info": {
   "codemirror_mode": {
    "name": "ipython",
    "version": 2
   },
   "file_extension": ".py",
   "mimetype": "text/x-python",
   "name": "python",
   "nbconvert_exporter": "python",
   "pygments_lexer": "ipython2",
   "version": "2.7.6"
  }
 },
 "nbformat": 4,
 "nbformat_minor": 5
}
