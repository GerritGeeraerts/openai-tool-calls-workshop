{
 "cells": [
  {
   "cell_type": "code",
   "id": "initial_id",
   "metadata": {
    "collapsed": true,
    "ExecuteTime": {
     "end_time": "2024-07-01T09:08:54.736688Z",
     "start_time": "2024-07-01T09:08:54.726592Z"
    }
   },
   "source": [
    "# import modules\n",
    "import os\n",
    "from openai import OpenAI\n",
    "from dotenv import load_dotenv\n",
    "\n",
    "# load the .env file\n",
    "load_dotenv()"
   ],
   "outputs": [
    {
     "data": {
      "text/plain": [
       "True"
      ]
     },
     "execution_count": 17,
     "metadata": {},
     "output_type": "execute_result"
    }
   ],
   "execution_count": 17
  },
  {
   "metadata": {
    "ExecuteTime": {
     "end_time": "2024-07-01T09:08:54.783499Z",
     "start_time": "2024-07-01T09:08:54.739163Z"
    }
   },
   "cell_type": "code",
   "source": [
    "# Initializing the OpenAi client\n",
    "client = OpenAI(api_key=os.getenv(\"OPENAI_API_KEYS\"), project=os.environ.get(\"OPENAI_PROJECT_ID\"))"
   ],
   "id": "6180e34660ae2f52",
   "outputs": [],
   "execution_count": 18
  },
  {
   "metadata": {
    "ExecuteTime": {
     "end_time": "2024-07-01T09:08:54.789803Z",
     "start_time": "2024-07-01T09:08:54.785641Z"
    }
   },
   "cell_type": "code",
   "source": [
    "# define the initial messages\n",
    "messages = [\n",
    "    {\"role\": \"system\", \"content\": \"You are a math assistant\"},\n",
    "    {\"role\": \"user\", \"content\": \"What is 7 to the power of 34?\"}\n",
    "]"
   ],
   "id": "f8a3f2194d132b23",
   "outputs": [],
   "execution_count": 19
  },
  {
   "metadata": {
    "ExecuteTime": {
     "end_time": "2024-07-01T09:08:55.808519Z",
     "start_time": "2024-07-01T09:08:54.793582Z"
    }
   },
   "cell_type": "code",
   "source": [
    "# Send these messages to the OpenAI API for chat completion\n",
    "response = client.chat.completions.create(\n",
    "    model=\"gpt-3.5-turbo\",\n",
    "    messages=messages,\n",
    "    temperature=0\n",
    ")"
   ],
   "id": "3118be6d83485fa4",
   "outputs": [],
   "execution_count": 20
  },
  {
   "metadata": {
    "ExecuteTime": {
     "end_time": "2024-07-01T09:08:55.817545Z",
     "start_time": "2024-07-01T09:08:55.811175Z"
    }
   },
   "cell_type": "code",
   "source": [
    "# inspect the result\n",
    "response.choices[0].message"
   ],
   "id": "33830e09145a9901",
   "outputs": [
    {
     "data": {
      "text/plain": [
       "ChatCompletionMessage(content='Calculating 7 to the power of 34 results in 3.652x10^30.', role='assistant', function_call=None, tool_calls=None)"
      ]
     },
     "execution_count": 21,
     "metadata": {},
     "output_type": "execute_result"
    }
   ],
   "execution_count": 21
  },
  {
   "metadata": {},
   "cell_type": "markdown",
   "source": "",
   "id": "b6aa49f99b4269cf"
  },
  {
   "metadata": {
    "ExecuteTime": {
     "end_time": "2024-07-01T09:08:55.831913Z",
     "start_time": "2024-07-01T09:08:55.820121Z"
    }
   },
   "cell_type": "code",
   "source": [
    "# Check if the answer is correct\n",
    "messages.append(response.choices[0].message)\n",
    "messages.append({\"role\": \"user\", \"content\": \"The correct answer is 5.411695604×10^28. Did you get the answer right? and can you explain me why Large Language Models are bad at calculating math equations?\"})\n",
    "messages"
   ],
   "id": "7257d8d610ed1078",
   "outputs": [
    {
     "data": {
      "text/plain": [
       "[{'role': 'system', 'content': 'You are a math assistant'},\n",
       " {'role': 'user', 'content': 'What is 7 to the power of 34?'},\n",
       " ChatCompletionMessage(content='Calculating 7 to the power of 34 results in 3.652x10^30.', role='assistant', function_call=None, tool_calls=None),\n",
       " {'role': 'user',\n",
       "  'content': 'The correct answer is 5.411695604×10^28. Did you get the answer right? and can you explain me why Large Language Models are bad at calculating math equations?'}]"
      ]
     },
     "execution_count": 22,
     "metadata": {},
     "output_type": "execute_result"
    }
   ],
   "execution_count": 22
  },
  {
   "metadata": {
    "ExecuteTime": {
     "end_time": "2024-07-01T09:08:58.162966Z",
     "start_time": "2024-07-01T09:08:55.834507Z"
    }
   },
   "cell_type": "code",
   "source": [
    "response = client.chat.completions.create(\n",
    "    model=\"gpt-3.5-turbo\",\n",
    "    messages=messages,\n",
    "    temperature=0\n",
    ")"
   ],
   "id": "98acd42b4a6566ef",
   "outputs": [],
   "execution_count": 23
  },
  {
   "metadata": {
    "ExecuteTime": {
     "end_time": "2024-07-01T09:08:58.171810Z",
     "start_time": "2024-07-01T09:08:58.165413Z"
    }
   },
   "cell_type": "code",
   "source": "response.choices[0].message",
   "id": "8b4cdaf70d40f367",
   "outputs": [
    {
     "data": {
      "text/plain": [
       "ChatCompletionMessage(content='I apologize for the error in my previous response. Thank you for providing the correct answer. Large Language Models (LLMs) like the one I am part of are not specifically designed for performing complex mathematical calculations. While we are trained on a vast amount of text data and can provide general information on a wide range of topics, our main strength lies in processing and generating human language rather than performing precise mathematical computations. LLMs may struggle with accurately solving complex math problems due to limitations in their training data and inherent biases in language models. For accurate mathematical calculations, it is always recommended to use dedicated mathematical software or calculators.', role='assistant', function_call=None, tool_calls=None)"
      ]
     },
     "execution_count": 24,
     "metadata": {},
     "output_type": "execute_result"
    }
   ],
   "execution_count": 24
  }
 ],
 "metadata": {
  "kernelspec": {
   "display_name": "Python 3",
   "language": "python",
   "name": "python3"
  },
  "language_info": {
   "codemirror_mode": {
    "name": "ipython",
    "version": 2
   },
   "file_extension": ".py",
   "mimetype": "text/x-python",
   "name": "python",
   "nbconvert_exporter": "python",
   "pygments_lexer": "ipython2",
   "version": "2.7.6"
  }
 },
 "nbformat": 4,
 "nbformat_minor": 5
}
