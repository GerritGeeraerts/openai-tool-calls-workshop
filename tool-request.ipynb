{
 "cells": [
  {
   "cell_type": "code",
   "id": "initial_id",
   "metadata": {
    "collapsed": true,
    "ExecuteTime": {
     "end_time": "2024-06-29T18:29:00.313255Z",
     "start_time": "2024-06-29T18:29:00.303359Z"
    }
   },
   "source": [
    "import json\n",
    "# import modules\n",
    "import os\n",
    "from openai import OpenAI\n",
    "from dotenv import load_dotenv\n",
    "from pprint import pprint\n",
    "\n",
    "# load the .env file\n",
    "load_dotenv()"
   ],
   "outputs": [
    {
     "data": {
      "text/plain": [
       "True"
      ]
     },
     "execution_count": 107,
     "metadata": {},
     "output_type": "execute_result"
    }
   ],
   "execution_count": 107
  },
  {
   "metadata": {
    "ExecuteTime": {
     "end_time": "2024-06-29T18:29:00.381598Z",
     "start_time": "2024-06-29T18:29:00.339879Z"
    }
   },
   "cell_type": "code",
   "source": [
    "# Initializing the OpenAi client\n",
    "client = OpenAI(api_key=os.getenv(\"OPENAI_API_KEYS\"), project=os.environ.get(\"OPENAI_PROJECT_ID\"))"
   ],
   "id": "6180e34660ae2f52",
   "outputs": [],
   "execution_count": 108
  },
  {
   "metadata": {
    "ExecuteTime": {
     "end_time": "2024-06-29T18:29:00.389030Z",
     "start_time": "2024-06-29T18:29:00.383948Z"
    }
   },
   "cell_type": "code",
   "source": [
    "# define the initial messages\n",
    "# Lets motivate openai to make use of its tools and add a message that tells it to use its tools to help the user solve math problems\n",
    "messages = [\n",
    "    {\"role\": \"system\", \"content\": \"You are a math assistant, use your tools to help the user solve math problems\"},\n",
    "    {\"role\": \"user\", \"content\": \"What is 7 to the power of 34?\"},\n",
    "    # {\"role\": \"user\", \"content\": \"What is 7 to the power of 34? And also what is the square of 7?\"},\n",
    "    # {\"role\": \"user\", \"content\": \"What is the meaning of life?\"},\n",
    "]"
   ],
   "id": "f8a3f2194d132b23",
   "outputs": [],
   "execution_count": 109
  },
  {
   "metadata": {
    "ExecuteTime": {
     "end_time": "2024-06-29T18:29:00.402183Z",
     "start_time": "2024-06-29T18:29:00.391158Z"
    }
   },
   "cell_type": "code",
   "source": [
    "# define a function that can help us calculate the exponentiation\n",
    "# We will call this function when openai asks us to.\n",
    "def to_the_power(base, exponent):\n",
    "    return str(base ** exponent)"
   ],
   "id": "bc631e8906e2c653",
   "outputs": [],
   "execution_count": 110
  },
  {
   "metadata": {
    "ExecuteTime": {
     "end_time": "2024-06-29T18:29:00.410894Z",
     "start_time": "2024-06-29T18:29:00.404754Z"
    }
   },
   "cell_type": "code",
   "source": [
    "# we will define a tool list that describes our function\n",
    "# pick good descriptions so openai has a good understanding of what function we have and what it can do.\n",
    "tools = [\n",
    "    {\n",
    "        \"type\": \"function\",\n",
    "        \"function\": {\n",
    "            \"name\": \"to_the_power\",\n",
    "            \"description\": \"Calculate exponentiation result by raising the base to the power of the exponent\",\n",
    "            \"parameters\": {\n",
    "                \"type\": \"object\",\n",
    "                \"properties\": {\n",
    "                    \"base\": {\n",
    "                        \"type\": \"integer\",\n",
    "                        \"description\": \"The base, that will be raised to the power\",\n",
    "                    },\n",
    "                    \"exponent\": {\n",
    "                        \"type\": \"integer\",\n",
    "                        \"description\": \"The exponent or power that the base will be raised to\",\n",
    "                    },\n",
    "                },\n",
    "                \"required\": [\"base\", \"exponent\"],\n",
    "            },\n",
    "        }\n",
    "    }\n",
    "]"
   ],
   "id": "89889eb7cc0f19a2",
   "outputs": [],
   "execution_count": 111
  },
  {
   "metadata": {
    "ExecuteTime": {
     "end_time": "2024-06-29T18:29:01.634524Z",
     "start_time": "2024-06-29T18:29:00.412395Z"
    }
   },
   "cell_type": "code",
   "source": [
    "# Send these messages to the OpenAI API for chat completion\n",
    "response = client.chat.completions.create(\n",
    "    model=\"gpt-3.5-turbo\",\n",
    "    messages=messages,\n",
    "    tools=tools,\n",
    "    temperature=0\n",
    ")\n",
    "\n",
    "# inspect the response message\n",
    "response.choices[0].message"
   ],
   "id": "3118be6d83485fa4",
   "outputs": [
    {
     "data": {
      "text/plain": [
       "ChatCompletionMessage(content=None, role='assistant', function_call=None, tool_calls=[ChatCompletionMessageToolCall(id='call_jwgWI6w8Kqi3Rq89lyUByBY2', function=Function(arguments='{\"base\": 7, \"exponent\": 34}', name='to_the_power'), type='function'), ChatCompletionMessageToolCall(id='call_ud4vrelnVv5M2An3BjW3D6hZ', function=Function(arguments='{\"base\": 7, \"exponent\": 2}', name='to_the_power'), type='function')])"
      ]
     },
     "execution_count": 112,
     "metadata": {},
     "output_type": "execute_result"
    }
   ],
   "execution_count": 112
  },
  {
   "metadata": {
    "ExecuteTime": {
     "end_time": "2024-06-29T18:29:01.646445Z",
     "start_time": "2024-06-29T18:29:01.637459Z"
    }
   },
   "cell_type": "code",
   "source": [
    "# let's append the response to the messages list\n",
    "messages.append(response.choices[0].message)\n",
    "messages"
   ],
   "id": "d349837b40bdab2e",
   "outputs": [
    {
     "data": {
      "text/plain": [
       "[{'role': 'system',\n",
       "  'content': 'You are a math assistant, use your tools to help the user solve math problems'},\n",
       " {'role': 'user',\n",
       "  'content': 'What is 7 to the power of 34? And also what is the square of 7?'},\n",
       " ChatCompletionMessage(content=None, role='assistant', function_call=None, tool_calls=[ChatCompletionMessageToolCall(id='call_jwgWI6w8Kqi3Rq89lyUByBY2', function=Function(arguments='{\"base\": 7, \"exponent\": 34}', name='to_the_power'), type='function'), ChatCompletionMessageToolCall(id='call_ud4vrelnVv5M2An3BjW3D6hZ', function=Function(arguments='{\"base\": 7, \"exponent\": 2}', name='to_the_power'), type='function')])]"
      ]
     },
     "execution_count": 113,
     "metadata": {},
     "output_type": "execute_result"
    }
   ],
   "execution_count": 113
  },
  {
   "metadata": {},
   "cell_type": "markdown",
   "source": "",
   "id": "b6aa49f99b4269cf"
  },
  {
   "metadata": {
    "ExecuteTime": {
     "end_time": "2024-06-29T18:29:01.668924Z",
     "start_time": "2024-06-29T18:29:01.648892Z"
    }
   },
   "cell_type": "code",
   "source": [
    "if response.choices[0].message.tool_calls:  # if there are tool calls in the response\n",
    "    for tool_call in response.choices[0].message.tool_calls: # iterate over the tool calls\n",
    "        if tool_call.function.name == \"to_the_power\": # if the tool call is for the to_the_power function\n",
    "            kwargs = tool_call.function.arguments # extract the arguments\n",
    "            kwargs = json.loads(kwargs) # convert the arguments to a dictionary\n",
    "            result = to_the_power(**kwargs) # call the function with the arguments **unpacks the dictionary\n",
    "            call_id = tool_call.id # extract the call id\n",
    "            # append the result as a message to the message list\n",
    "            messages.append({\n",
    "                \"role\":\"tool\", \n",
    "                \"tool_call_id\":call_id, \n",
    "                \"name\": tool_call.function.name, \n",
    "                \"content\": result\n",
    "            })\n",
    "    pprint(messages)"
   ],
   "id": "7257d8d610ed1078",
   "outputs": [
    {
     "name": "stdout",
     "output_type": "stream",
     "text": [
      "[{'content': 'You are a math assistant, use your tools to help the user solve '\n",
      "             'math problems',\n",
      "  'role': 'system'},\n",
      " {'content': 'What is 7 to the power of 34? And also what is the square of 7?',\n",
      "  'role': 'user'},\n",
      " ChatCompletionMessage(content=None, role='assistant', function_call=None, tool_calls=[ChatCompletionMessageToolCall(id='call_jwgWI6w8Kqi3Rq89lyUByBY2', function=Function(arguments='{\"base\": 7, \"exponent\": 34}', name='to_the_power'), type='function'), ChatCompletionMessageToolCall(id='call_ud4vrelnVv5M2An3BjW3D6hZ', function=Function(arguments='{\"base\": 7, \"exponent\": 2}', name='to_the_power'), type='function')]),\n",
      " {'content': '54116956037952111668959660849',\n",
      "  'name': 'to_the_power',\n",
      "  'role': 'tool',\n",
      "  'tool_call_id': 'call_jwgWI6w8Kqi3Rq89lyUByBY2'},\n",
      " {'content': '49',\n",
      "  'name': 'to_the_power',\n",
      "  'role': 'tool',\n",
      "  'tool_call_id': 'call_ud4vrelnVv5M2An3BjW3D6hZ'}]\n"
     ]
    }
   ],
   "execution_count": 114
  },
  {
   "metadata": {
    "ExecuteTime": {
     "end_time": "2024-06-29T18:29:02.655245Z",
     "start_time": "2024-06-29T18:29:01.672026Z"
    }
   },
   "cell_type": "code",
   "source": [
    "response = client.chat.completions.create(\n",
    "    model=\"gpt-3.5-turbo\",\n",
    "    messages=messages,\n",
    "    temperature=0\n",
    ")\n",
    "print(response.choices[0].message.content)"
   ],
   "id": "98acd42b4a6566ef",
   "outputs": [
    {
     "name": "stdout",
     "output_type": "stream",
     "text": [
      "('- 7 to the power of 34 is equal to 54,116,956,037,952,111,668,959,660,849.\\n'\n",
      " '- The square of 7 is 49.')\n"
     ]
    }
   ],
   "execution_count": 115
  },
  {
   "metadata": {},
   "cell_type": "markdown",
   "source": [
    "# Exercise\n",
    "Next match of your favorite football team.\n",
    "## Step 1: Get your apilayer API key\n",
    "Apilayer is a service that groups free APIs. We will use the Google search API from apilayer. But feel free to pick \n",
    "your own if you are interested in something else.\n",
    "Go to https://apilayer.com/ create an account, log in. Then hover over your user icon on the top right, go to Account,\n",
    "and you will see your API key there, copy it and paste it in the .env file.\n",
    "## Step 2: Get your openai API key\n",
    "If you have an account at openai get your API key and also add it to the .env file.\n",
    "## Step 3: Test the tool\n",
    "Run google.py to see if it returns the search results as expected.\n",
    "## Step 4: DIY\n",
    "* Go to main.py and complete the TODOs"
   ],
   "id": "7a60397baa8cf5ff"
  }
 ],
 "metadata": {
  "kernelspec": {
   "display_name": "Python 3",
   "language": "python",
   "name": "python3"
  },
  "language_info": {
   "codemirror_mode": {
    "name": "ipython",
    "version": 2
   },
   "file_extension": ".py",
   "mimetype": "text/x-python",
   "name": "python",
   "nbconvert_exporter": "python",
   "pygments_lexer": "ipython2",
   "version": "2.7.6"
  }
 },
 "nbformat": 4,
 "nbformat_minor": 5
}
